{
 "metadata": {
  "language_info": {
   "codemirror_mode": {
    "name": "ipython",
    "version": 3
   },
   "file_extension": ".py",
   "mimetype": "text/x-python",
   "name": "python",
   "nbconvert_exporter": "python",
   "pygments_lexer": "ipython3",
   "version": "3.9.4"
  },
  "orig_nbformat": 2,
  "kernelspec": {
   "name": "python394jvsc74a57bd063fd5069d213b44bf678585dea6b12cceca9941eaf7f819626cde1f2670de90d",
   "display_name": "Python 3.9.4 64-bit"
  },
  "metadata": {
   "interpreter": {
    "hash": "63fd5069d213b44bf678585dea6b12cceca9941eaf7f819626cde1f2670de90d"
   }
  }
 },
 "nbformat": 4,
 "nbformat_minor": 2,
 "cells": [
  {
   "cell_type": "code",
   "execution_count": 390,
   "metadata": {},
   "outputs": [],
   "source": [
    "import pandas as pd\r\n",
    "import json"
   ]
  },
  {
   "cell_type": "code",
   "execution_count": 391,
   "metadata": {},
   "outputs": [
    {
     "output_type": "stream",
     "name": "stderr",
     "text": [
      "C:\\Users\\gusta\\AppData\\Roaming\\Python\\Python39\\site-packages\\IPython\\core\\interactiveshell.py:3165: DtypeWarning: Columns (9) have mixed types.Specify dtype option on import or set low_memory=False.\n  has_raised = await self.run_ast_nodes(code_ast.body, cell_name,\n"
     ]
    }
   ],
   "source": [
    "# Load CSV data directly from the URL with pandas, the options are needed to prevent\n",
    "# reading of records with key \"NA\" (Namibia) as NaN\n",
    "data = pd.read_csv(\n",
    "    \"https://storage.googleapis.com/covid19-open-data/v2/latest/main.csv\",\n",
    "    keep_default_na=False,\n",
    "    na_values=[\"\"],\n",
    ")"
   ]
  },
  {
   "cell_type": "code",
   "execution_count": 392,
   "metadata": {},
   "outputs": [],
   "source": [
    "# NOTE: We are only downloading the last day of data, but you can download all\n",
    "# the data at once if you'd like by changing the URL to:\n",
    "# https://storage.googleapis.com/covid19-open-data/v2/main.csv"
   ]
  },
  {
   "cell_type": "code",
   "execution_count": 393,
   "metadata": {},
   "outputs": [],
   "source": [
    "# Print a small snippet of the dataset\n",
    "#print(f\"The dataset currently contains {len(data)} records, here is a sample:\")\n",
    "#data.sample(5)"
   ]
  },
  {
   "cell_type": "code",
   "execution_count": 394,
   "metadata": {
    "tags": []
   },
   "outputs": [
    {
     "output_type": "stream",
     "name": "stdout",
     "text": [
      ",date,new_confirmed,total_confirmed,country_name\n22507,2021-04-30,5.0,2857.0,Vietnam\n22508,2021-04-30,0.0,3.0,Vanuatu\n22509,2021-04-30,1.0,452.0,Wallis and Futuna\n22510,2021-04-30,0.0,1.0,Samoa\n22511,2021-04-30,194.0,104347.0,Kosovo\n22512,2021-04-30,37.0,6224.0,Yemen\n22513,2021-04-30,159.0,20055.0,Mayotte\n22514,2021-04-30,880.0,1577200.0,South Africa\n22576,2021-04-30,40.0,91418.0,Zambia\n22577,2021-04-30,62.0,38164.0,Zimbabwe\n\n"
     ]
    }
   ],
   "source": [
    "countries = data[data.aggregation_level == 0]\n",
    "countries = countries.drop(columns=['subregion1_code', 'subregion1_name', 'subregion2_code', 'subregion2_name',])\n",
    "countries = countries[['date','new_confirmed','total_confirmed','country_name',]]\n",
    "\n",
    "#countries = countries.locality_name\n",
    "#countries\n",
    "\n",
    "df = pd.DataFrame(countries).tail(10)\n",
    "print (df.to_csv())\n",
    "\n",
    "#countries.tail(5)"
   ]
  },
  {
   "cell_type": "code",
   "execution_count": null,
   "metadata": {},
   "outputs": [],
   "source": []
  }
 ]
}