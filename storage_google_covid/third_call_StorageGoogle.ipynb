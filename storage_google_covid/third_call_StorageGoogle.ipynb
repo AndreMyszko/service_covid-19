{
 "metadata": {
  "language_info": {
   "codemirror_mode": {
    "name": "ipython",
    "version": 3
   },
   "file_extension": ".py",
   "mimetype": "text/x-python",
   "name": "python",
   "nbconvert_exporter": "python",
   "pygments_lexer": "ipython3",
   "version": "3.9.4"
  },
  "orig_nbformat": 2,
  "kernelspec": {
   "name": "python394jvsc74a57bd063fd5069d213b44bf678585dea6b12cceca9941eaf7f819626cde1f2670de90d",
   "display_name": "Python 3.9.4 64-bit"
  },
  "metadata": {
   "interpreter": {
    "hash": "63fd5069d213b44bf678585dea6b12cceca9941eaf7f819626cde1f2670de90d"
   }
  }
 },
 "nbformat": 4,
 "nbformat_minor": 2,
 "cells": [
  {
   "cell_type": "code",
   "execution_count": 11,
   "metadata": {},
   "outputs": [],
   "source": [
    "import pandas as pd\r\n",
    "import json"
   ]
  },
  {
   "cell_type": "code",
   "execution_count": 12,
   "metadata": {},
   "outputs": [
    {
     "output_type": "stream",
     "name": "stderr",
     "text": [
      "C:\\Users\\gusta\\AppData\\Roaming\\Python\\Python39\\site-packages\\IPython\\core\\interactiveshell.py:3165: DtypeWarning: Columns (9) have mixed types.Specify dtype option on import or set low_memory=False.\n  has_raised = await self.run_ast_nodes(code_ast.body, cell_name,\n"
     ]
    }
   ],
   "source": [
    "# Load CSV data directly from the URL with pandas, the options are needed to prevent\n",
    "# reading of records with key \"NA\" (Namibia) as NaN\n",
    "data = pd.read_csv(\n",
    "    \"https://storage.googleapis.com/covid19-open-data/v2/latest/main.csv\",\n",
    "    keep_default_na=False,\n",
    "    na_values=[\"\"],\n",
    ")"
   ]
  },
  {
   "cell_type": "code",
   "execution_count": 13,
   "metadata": {},
   "outputs": [],
   "source": [
    "# NOTE: We are only downloading the last day of data, but you can download all\n",
    "# the data at once if you'd like by changing the URL to:\n",
    "# https://storage.googleapis.com/covid19-open-data/v2/main.csv"
   ]
  },
  {
   "cell_type": "code",
   "execution_count": 14,
   "metadata": {},
   "outputs": [],
   "source": [
    "# Print a small snippet of the dataset\n",
    "#print(f\"The dataset currently contains {len(data)} records, here is a sample:\")\n",
    "#data.sample(5)"
   ]
  },
  {
   "cell_type": "code",
   "execution_count": 15,
   "metadata": {
    "tags": []
   },
   "outputs": [
    {
     "output_type": "execute_result",
     "data": {
      "text/plain": [
       "             date  new_confirmed  total_confirmed  country_name\n",
       "22512  2021-04-30           43.0           6267.0         Yemen\n",
       "22513  2021-04-30          159.0          20055.0       Mayotte\n",
       "22514  2021-04-30          880.0        1577200.0  South Africa\n",
       "22576  2021-04-30           40.0          91418.0        Zambia\n",
       "22577  2021-04-30           62.0          38164.0      Zimbabwe"
      ],
      "text/html": "<div>\n<style scoped>\n    .dataframe tbody tr th:only-of-type {\n        vertical-align: middle;\n    }\n\n    .dataframe tbody tr th {\n        vertical-align: top;\n    }\n\n    .dataframe thead th {\n        text-align: right;\n    }\n</style>\n<table border=\"1\" class=\"dataframe\">\n  <thead>\n    <tr style=\"text-align: right;\">\n      <th></th>\n      <th>date</th>\n      <th>new_confirmed</th>\n      <th>total_confirmed</th>\n      <th>country_name</th>\n    </tr>\n  </thead>\n  <tbody>\n    <tr>\n      <th>22512</th>\n      <td>2021-04-30</td>\n      <td>43.0</td>\n      <td>6267.0</td>\n      <td>Yemen</td>\n    </tr>\n    <tr>\n      <th>22513</th>\n      <td>2021-04-30</td>\n      <td>159.0</td>\n      <td>20055.0</td>\n      <td>Mayotte</td>\n    </tr>\n    <tr>\n      <th>22514</th>\n      <td>2021-04-30</td>\n      <td>880.0</td>\n      <td>1577200.0</td>\n      <td>South Africa</td>\n    </tr>\n    <tr>\n      <th>22576</th>\n      <td>2021-04-30</td>\n      <td>40.0</td>\n      <td>91418.0</td>\n      <td>Zambia</td>\n    </tr>\n    <tr>\n      <th>22577</th>\n      <td>2021-04-30</td>\n      <td>62.0</td>\n      <td>38164.0</td>\n      <td>Zimbabwe</td>\n    </tr>\n  </tbody>\n</table>\n</div>"
     },
     "metadata": {},
     "execution_count": 15
    }
   ],
   "source": [
    "countries = data[data.aggregation_level == 0]\n",
    "countries = countries.drop(columns=['subregion1_code', 'subregion1_name', 'subregion2_code', 'subregion2_name',])\n",
    "countries = countries[['date','new_confirmed','total_confirmed','country_name',]]\n",
    "\n",
    "#countries = countries.locality_name\n",
    "#countries\n",
    "\n",
    "df = pd.DataFrame(countries)\n",
    "df.to_json('novapasta/first_json.json')\n",
    "df.to_csv('novapasta/first_csv.csv')\n",
    "\n",
    "countries.tail(5)"
   ]
  },
  {
   "cell_type": "code",
   "execution_count": null,
   "metadata": {},
   "outputs": [],
   "source": []
  }
 ]
}