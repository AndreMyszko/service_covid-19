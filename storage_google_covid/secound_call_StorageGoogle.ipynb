{
 "metadata": {
  "language_info": {
   "codemirror_mode": {
    "name": "ipython",
    "version": 3
   },
   "file_extension": ".py",
   "mimetype": "text/x-python",
   "name": "python",
   "nbconvert_exporter": "python",
   "pygments_lexer": "ipython3",
   "version": "3.9.4"
  },
  "orig_nbformat": 2,
  "kernelspec": {
   "name": "python394jvsc74a57bd063fd5069d213b44bf678585dea6b12cceca9941eaf7f819626cde1f2670de90d",
   "display_name": "Python 3.9.4 64-bit"
  },
  "metadata": {
   "interpreter": {
    "hash": "63fd5069d213b44bf678585dea6b12cceca9941eaf7f819626cde1f2670de90d"
   }
  }
 },
 "nbformat": 4,
 "nbformat_minor": 2,
 "cells": [
  {
   "cell_type": "code",
   "execution_count": 195,
   "metadata": {},
   "outputs": [],
   "source": [
    "import pandas as pd"
   ]
  },
  {
   "cell_type": "code",
   "execution_count": 196,
   "metadata": {},
   "outputs": [],
   "source": [
    "severe_recovery_days = 12\n",
    "critical_recovery_days = 15\n",
    "mild_recovery_days = 7"
   ]
  },
  {
   "cell_type": "code",
   "execution_count": 197,
   "metadata": {},
   "outputs": [],
   "source": [
    "# Load country-level data for Brasil\n",
    "data = pd.read_csv('https://storage.googleapis.com/covid19-open-data/v2/BR_PR/main.csv').set_index('date')"
   ]
  },
  {
   "cell_type": "code",
   "execution_count": 198,
   "metadata": {},
   "outputs": [],
   "source": [
    "# Estimate daily counts per category assuming ratio is constant\n",
    "data = data[data.index <= '2020-04-28']\n",
    "data['new_mild'] = data['new_confirmed'] * mild_recovery_days\n",
    "data['new_severe'] = data['new_confirmed'] * severe_recovery_days\n",
    "data['new_critical'] = data['new_confirmed'] * critical_recovery_days\n",
    "data = data[['new_confirmed', 'new_deceased', 'new_mild', 'new_severe', 'new_critical']]\n",
    "\n",
    "#data.tail(10)\n",
    "df = pd.DataFrame(data.tail(15))\n",
    "df.to_csv('novapasta/new_csv_file.csv')\n",
    "df.to_json('novapasta/new_json_file.json')"
   ]
  },
  {
   "cell_type": "code",
   "execution_count": null,
   "metadata": {},
   "outputs": [],
   "source": []
  }
 ]
}