{
 "metadata": {
  "language_info": {
   "codemirror_mode": {
    "name": "ipython",
    "version": 3
   },
   "file_extension": ".py",
   "mimetype": "text/x-python",
   "name": "python",
   "nbconvert_exporter": "python",
   "pygments_lexer": "ipython3",
   "version": "3.9.4"
  },
  "orig_nbformat": 2,
  "kernelspec": {
   "name": "python394jvsc74a57bd063fd5069d213b44bf678585dea6b12cceca9941eaf7f819626cde1f2670de90d",
   "display_name": "Python 3.9.4 64-bit"
  },
  "metadata": {
   "interpreter": {
    "hash": "63fd5069d213b44bf678585dea6b12cceca9941eaf7f819626cde1f2670de90d"
   }
  }
 },
 "nbformat": 4,
 "nbformat_minor": 2,
 "cells": [
  {
   "cell_type": "code",
   "execution_count": 413,
   "metadata": {},
   "outputs": [],
   "source": [
    "import pandas as pd"
   ]
  },
  {
   "cell_type": "code",
   "execution_count": 414,
   "metadata": {},
   "outputs": [],
   "source": [
    "severe_recovery_days = 12\n",
    "critical_recovery_days = 15\n",
    "mild_recovery_days = 7"
   ]
  },
  {
   "cell_type": "code",
   "execution_count": 415,
   "metadata": {},
   "outputs": [],
   "source": [
    "# Load country-level data for Brasil\n",
    "data = pd.read_csv('https://storage.googleapis.com/covid19-open-data/v2/BR/main.csv').set_index('date')"
   ]
  },
  {
   "cell_type": "code",
   "execution_count": 416,
   "metadata": {},
   "outputs": [
    {
     "output_type": "execute_result",
     "data": {
      "text/plain": [
       "            new_confirmed  new_deceased  new_mild  new_severe  new_critical  \\\n",
       "date                                                                          \n",
       "2020-04-27         4613.0         338.0   32291.0     55356.0       69195.0   \n",
       "2020-04-28         5385.0         474.0   37695.0     64620.0       80775.0   \n",
       "\n",
       "            new_reotrno  \n",
       "date                     \n",
       "2020-04-27       4613.0  \n",
       "2020-04-28       5385.0  "
      ],
      "text/html": "<div>\n<style scoped>\n    .dataframe tbody tr th:only-of-type {\n        vertical-align: middle;\n    }\n\n    .dataframe tbody tr th {\n        vertical-align: top;\n    }\n\n    .dataframe thead th {\n        text-align: right;\n    }\n</style>\n<table border=\"1\" class=\"dataframe\">\n  <thead>\n    <tr style=\"text-align: right;\">\n      <th></th>\n      <th>new_confirmed</th>\n      <th>new_deceased</th>\n      <th>new_mild</th>\n      <th>new_severe</th>\n      <th>new_critical</th>\n      <th>new_reotrno</th>\n    </tr>\n    <tr>\n      <th>date</th>\n      <th></th>\n      <th></th>\n      <th></th>\n      <th></th>\n      <th></th>\n      <th></th>\n    </tr>\n  </thead>\n  <tbody>\n    <tr>\n      <th>2020-04-27</th>\n      <td>4613.0</td>\n      <td>338.0</td>\n      <td>32291.0</td>\n      <td>55356.0</td>\n      <td>69195.0</td>\n      <td>4613.0</td>\n    </tr>\n    <tr>\n      <th>2020-04-28</th>\n      <td>5385.0</td>\n      <td>474.0</td>\n      <td>37695.0</td>\n      <td>64620.0</td>\n      <td>80775.0</td>\n      <td>5385.0</td>\n    </tr>\n  </tbody>\n</table>\n</div>"
     },
     "metadata": {},
     "execution_count": 416
    }
   ],
   "source": [
    "# Estimate daily counts per category assuming ratio is constant\n",
    "data = data[data.index <= '2020-04-28']\n",
    "data['new_reotrno'] = data['new_confirmed']\n",
    "data['new_mild'] = data['new_confirmed'] * mild_recovery_days\n",
    "data['new_severe'] = data['new_confirmed'] * severe_recovery_days\n",
    "data['new_critical'] = data['new_confirmed'] * critical_recovery_days\n",
    "data = data[['new_confirmed', 'new_deceased', 'new_mild', 'new_severe', 'new_critical','new_reotrno']]\n",
    "\n",
    "#for i in data:\n",
    "#print (dir(i.))\n",
    "data.tail(2)\n",
    "#df = pd.DataFrame(data.tail(15))\n",
    "#df.to_csv('novapasta/new_csv_file.csv')\n",
    "#df.to_json('novapasta/new_json_file.json')"
   ]
  },
  {
   "cell_type": "code",
   "execution_count": null,
   "metadata": {},
   "outputs": [],
   "source": []
  }
 ]
}