{
 "metadata": {
  "language_info": {
   "codemirror_mode": {
    "name": "ipython",
    "version": 3
   },
   "file_extension": ".py",
   "mimetype": "text/x-python",
   "name": "python",
   "nbconvert_exporter": "python",
   "pygments_lexer": "ipython3",
   "version": "3.9.4"
  },
  "orig_nbformat": 2,
  "kernelspec": {
   "name": "python394jvsc74a57bd063fd5069d213b44bf678585dea6b12cceca9941eaf7f819626cde1f2670de90d",
   "display_name": "Python 3.9.4 64-bit"
  },
  "metadata": {
   "interpreter": {
    "hash": "63fd5069d213b44bf678585dea6b12cceca9941eaf7f819626cde1f2670de90d"
   }
  }
 },
 "nbformat": 4,
 "nbformat_minor": 2,
 "cells": [
  {
   "cell_type": "code",
   "execution_count": 10,
   "metadata": {},
   "outputs": [],
   "source": [
    "import pandas as pd"
   ]
  },
  {
   "cell_type": "code",
   "execution_count": 11,
   "metadata": {},
   "outputs": [],
   "source": [
    "severe_recovery_days = 12\n",
    "critical_recovery_days = 15\n",
    "mild_recovery_days = 7"
   ]
  },
  {
   "cell_type": "code",
   "execution_count": 12,
   "metadata": {},
   "outputs": [],
   "source": [
    "# Load country-level data for Brasil\n",
    "data = pd.read_csv('https://storage.googleapis.com/covid19-open-data/v2/BR/main.csv').set_index('date')"
   ]
  },
  {
   "cell_type": "code",
   "execution_count": 13,
   "metadata": {},
   "outputs": [
    {
     "output_type": "execute_result",
     "data": {
      "text/plain": [
       "            new_confirmed  new_deceased  new_mild  new_severe  new_critical  \\\n",
       "date                                                                          \n",
       "2020-04-19         2055.0         115.0   14385.0     24660.0       30825.0   \n",
       "2020-04-20         1927.0         113.0   13489.0     23124.0       28905.0   \n",
       "2020-04-21         2498.0         166.0   17486.0     29976.0       37470.0   \n",
       "2020-04-22         2678.0         165.0   18746.0     32136.0       40170.0   \n",
       "2020-04-23         3735.0         407.0   26145.0     44820.0       56025.0   \n",
       "2020-04-24         3503.0         357.0   24521.0     42036.0       52545.0   \n",
       "2020-04-25         5514.0         346.0   38598.0     66168.0       82710.0   \n",
       "2020-04-26         3379.0         189.0   23653.0     40548.0       50685.0   \n",
       "2020-04-27         4613.0         338.0   32291.0     55356.0       69195.0   \n",
       "2020-04-28         5385.0         474.0   37695.0     64620.0       80775.0   \n",
       "\n",
       "            new_reotrno  \n",
       "date                     \n",
       "2020-04-19       2055.0  \n",
       "2020-04-20       1927.0  \n",
       "2020-04-21       2498.0  \n",
       "2020-04-22       2678.0  \n",
       "2020-04-23       3735.0  \n",
       "2020-04-24       3503.0  \n",
       "2020-04-25       5514.0  \n",
       "2020-04-26       3379.0  \n",
       "2020-04-27       4613.0  \n",
       "2020-04-28       5385.0  "
      ],
      "text/html": "<div>\n<style scoped>\n    .dataframe tbody tr th:only-of-type {\n        vertical-align: middle;\n    }\n\n    .dataframe tbody tr th {\n        vertical-align: top;\n    }\n\n    .dataframe thead th {\n        text-align: right;\n    }\n</style>\n<table border=\"1\" class=\"dataframe\">\n  <thead>\n    <tr style=\"text-align: right;\">\n      <th></th>\n      <th>new_confirmed</th>\n      <th>new_deceased</th>\n      <th>new_mild</th>\n      <th>new_severe</th>\n      <th>new_critical</th>\n      <th>new_reotrno</th>\n    </tr>\n    <tr>\n      <th>date</th>\n      <th></th>\n      <th></th>\n      <th></th>\n      <th></th>\n      <th></th>\n      <th></th>\n    </tr>\n  </thead>\n  <tbody>\n    <tr>\n      <th>2020-04-19</th>\n      <td>2055.0</td>\n      <td>115.0</td>\n      <td>14385.0</td>\n      <td>24660.0</td>\n      <td>30825.0</td>\n      <td>2055.0</td>\n    </tr>\n    <tr>\n      <th>2020-04-20</th>\n      <td>1927.0</td>\n      <td>113.0</td>\n      <td>13489.0</td>\n      <td>23124.0</td>\n      <td>28905.0</td>\n      <td>1927.0</td>\n    </tr>\n    <tr>\n      <th>2020-04-21</th>\n      <td>2498.0</td>\n      <td>166.0</td>\n      <td>17486.0</td>\n      <td>29976.0</td>\n      <td>37470.0</td>\n      <td>2498.0</td>\n    </tr>\n    <tr>\n      <th>2020-04-22</th>\n      <td>2678.0</td>\n      <td>165.0</td>\n      <td>18746.0</td>\n      <td>32136.0</td>\n      <td>40170.0</td>\n      <td>2678.0</td>\n    </tr>\n    <tr>\n      <th>2020-04-23</th>\n      <td>3735.0</td>\n      <td>407.0</td>\n      <td>26145.0</td>\n      <td>44820.0</td>\n      <td>56025.0</td>\n      <td>3735.0</td>\n    </tr>\n    <tr>\n      <th>2020-04-24</th>\n      <td>3503.0</td>\n      <td>357.0</td>\n      <td>24521.0</td>\n      <td>42036.0</td>\n      <td>52545.0</td>\n      <td>3503.0</td>\n    </tr>\n    <tr>\n      <th>2020-04-25</th>\n      <td>5514.0</td>\n      <td>346.0</td>\n      <td>38598.0</td>\n      <td>66168.0</td>\n      <td>82710.0</td>\n      <td>5514.0</td>\n    </tr>\n    <tr>\n      <th>2020-04-26</th>\n      <td>3379.0</td>\n      <td>189.0</td>\n      <td>23653.0</td>\n      <td>40548.0</td>\n      <td>50685.0</td>\n      <td>3379.0</td>\n    </tr>\n    <tr>\n      <th>2020-04-27</th>\n      <td>4613.0</td>\n      <td>338.0</td>\n      <td>32291.0</td>\n      <td>55356.0</td>\n      <td>69195.0</td>\n      <td>4613.0</td>\n    </tr>\n    <tr>\n      <th>2020-04-28</th>\n      <td>5385.0</td>\n      <td>474.0</td>\n      <td>37695.0</td>\n      <td>64620.0</td>\n      <td>80775.0</td>\n      <td>5385.0</td>\n    </tr>\n  </tbody>\n</table>\n</div>"
     },
     "metadata": {},
     "execution_count": 13
    }
   ],
   "source": [
    "# Estimate daily counts per category assuming ratio is constant\n",
    "data = data[data.index <= '2020-04-28']\n",
    "data['new_reotrno'] = data['new_confirmed']\n",
    "data['new_mild'] = data['new_confirmed'] * mild_recovery_days\n",
    "data['new_severe'] = data['new_confirmed'] * severe_recovery_days\n",
    "data['new_critical'] = data['new_confirmed'] * critical_recovery_days\n",
    "data = data[['new_confirmed', 'new_deceased', 'new_mild', 'new_severe', 'new_critical','new_reotrno']]\n",
    "\n",
    "#for i in data:\n",
    "#print (dir(i.))\n",
    "data.tail(10)\n",
    "#df = pd.DataFrame(data.tail(15))\n",
    "#df.to_csv('novapasta/new_csv_file.csv')\n",
    "#df.to_json('novapasta/new_json_file.json')"
   ]
  },
  {
   "cell_type": "code",
   "execution_count": null,
   "metadata": {},
   "outputs": [],
   "source": []
  }
 ]
}