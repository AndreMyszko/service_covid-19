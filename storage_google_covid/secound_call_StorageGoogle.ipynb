{
 "metadata": {
  "language_info": {
   "codemirror_mode": {
    "name": "ipython",
    "version": 3
   },
   "file_extension": ".py",
   "mimetype": "text/x-python",
   "name": "python",
   "nbconvert_exporter": "python",
   "pygments_lexer": "ipython3",
   "version": "3.9.4"
  },
  "orig_nbformat": 2,
  "kernelspec": {
   "name": "python394jvsc74a57bd063fd5069d213b44bf678585dea6b12cceca9941eaf7f819626cde1f2670de90d",
   "display_name": "Python 3.9.4 64-bit"
  },
  "metadata": {
   "interpreter": {
    "hash": "63fd5069d213b44bf678585dea6b12cceca9941eaf7f819626cde1f2670de90d"
   }
  }
 },
 "nbformat": 4,
 "nbformat_minor": 2,
 "cells": [
  {
   "cell_type": "code",
   "execution_count": 53,
   "metadata": {},
   "outputs": [],
   "source": [
    "import pandas as pd"
   ]
  },
  {
   "cell_type": "code",
   "execution_count": 54,
   "metadata": {},
   "outputs": [],
   "source": [
    "severe_recovery_days = 12\n",
    "critical_recovery_days = 15\n",
    "mild_recovery_days = 7"
   ]
  },
  {
   "cell_type": "code",
   "execution_count": 55,
   "metadata": {},
   "outputs": [],
   "source": [
    "# Load country-level data for Italy\n",
    "data = pd.read_csv('https://storage.googleapis.com/covid19-open-data/v2/BR/main.csv').set_index('date')"
   ]
  },
  {
   "cell_type": "code",
   "execution_count": 56,
   "metadata": {},
   "outputs": [
    {
     "output_type": "execute_result",
     "data": {
      "text/plain": [
       "'{\"new_confirmed\":{\"2020-04-19\":2055.0,\"2020-04-20\":1927.0,\"2020-04-21\":2498.0,\"2020-04-22\":2678.0,\"2020-04-23\":3735.0,\"2020-04-24\":3503.0,\"2020-04-25\":5514.0,\"2020-04-26\":3379.0,\"2020-04-27\":4613.0,\"2020-04-28\":5385.0},\"new_deceased\":{\"2020-04-19\":115.0,\"2020-04-20\":113.0,\"2020-04-21\":166.0,\"2020-04-22\":165.0,\"2020-04-23\":407.0,\"2020-04-24\":357.0,\"2020-04-25\":346.0,\"2020-04-26\":189.0,\"2020-04-27\":338.0,\"2020-04-28\":474.0},\"new_mild\":{\"2020-04-19\":14385.0,\"2020-04-20\":13489.0,\"2020-04-21\":17486.0,\"2020-04-22\":18746.0,\"2020-04-23\":26145.0,\"2020-04-24\":24521.0,\"2020-04-25\":38598.0,\"2020-04-26\":23653.0,\"2020-04-27\":32291.0,\"2020-04-28\":37695.0},\"new_severe\":{\"2020-04-19\":24660.0,\"2020-04-20\":23124.0,\"2020-04-21\":29976.0,\"2020-04-22\":32136.0,\"2020-04-23\":44820.0,\"2020-04-24\":42036.0,\"2020-04-25\":66168.0,\"2020-04-26\":40548.0,\"2020-04-27\":55356.0,\"2020-04-28\":64620.0},\"new_critical\":{\"2020-04-19\":30825.0,\"2020-04-20\":28905.0,\"2020-04-21\":37470.0,\"2020-04-22\":40170.0,\"2020-04-23\":56025.0,\"2020-04-24\":52545.0,\"2020-04-25\":82710.0,\"2020-04-26\":50685.0,\"2020-04-27\":69195.0,\"2020-04-28\":80775.0}}'"
      ]
     },
     "metadata": {},
     "execution_count": 56
    }
   ],
   "source": [
    "# Estimate daily counts per category assuming ratio is constant\n",
    "data = data[data.index <= '2020-04-28']\n",
    "data['new_mild'] = data['new_confirmed'] * 7 #set variable in 'mild'\n",
    "data['new_severe'] = data['new_confirmed'] * 12 #set variable in 'severe'\n",
    "data['new_critical'] = data['new_confirmed'] * 15 #set variable in 'critical'\n",
    "data = data[['new_confirmed', 'new_deceased', 'new_mild', 'new_severe', 'new_critical']]\n",
    "\n",
    "#data.tail(10)\n",
    "df = pd.DataFrame(data.tail(10))\n",
    "df.to_json()"
   ]
  },
  {
   "cell_type": "code",
   "execution_count": null,
   "metadata": {},
   "outputs": [],
   "source": []
  }
 ]
}