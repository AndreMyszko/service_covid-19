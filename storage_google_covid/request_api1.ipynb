{
 "metadata": {
  "language_info": {
   "codemirror_mode": {
    "name": "ipython",
    "version": 3
   },
   "file_extension": ".py",
   "mimetype": "text/x-python",
   "name": "python",
   "nbconvert_exporter": "python",
   "pygments_lexer": "ipython3",
   "version": "3.9.4"
  },
  "orig_nbformat": 2,
  "kernelspec": {
   "name": "python394jvsc74a57bd063fd5069d213b44bf678585dea6b12cceca9941eaf7f819626cde1f2670de90d",
   "display_name": "Python 3.9.4 64-bit"
  },
  "metadata": {
   "interpreter": {
    "hash": "63fd5069d213b44bf678585dea6b12cceca9941eaf7f819626cde1f2670de90d"
   }
  }
 },
 "nbformat": 4,
 "nbformat_minor": 2,
 "cells": [
  {
   "cell_type": "code",
   "execution_count": 39,
   "metadata": {},
   "outputs": [],
   "source": [
    "import requests"
   ]
  },
  {
   "cell_type": "code",
   "execution_count": 40,
   "metadata": {},
   "outputs": [
    {
     "output_type": "stream",
     "name": "stdout",
     "text": [
      "200\n{\n  \"current_user_url\": \"https://api.github.com/user\",\n  \"current_user_authorizations_html_url\": \"https://github.com/settings/connections/applications{/client_id}\",\n  \"authorizations_url\": \"https://api.github.com/authorizations\",\n  \"code_search_url\": \"https://api.github.com/search/code?q={query}{&page,per_page,sort,order}\",\n  \"commit_search_url\": \"https://api.github.com/search/commits?q={query}{&page,per_page,sort,order}\",\n  \"emails_url\": \"https://api.github.com/user/emails\",\n  \"emojis_url\": \"https://api.github.com/emojis\",\n  \"events_url\": \"https://api.github.com/events\",\n  \"feeds_url\": \"https://api.github.com/feeds\",\n  \"followers_url\": \"https://api.github.com/user/followers\",\n  \"following_url\": \"https://api.github.com/user/following{/target}\",\n  \"gists_url\": \"https://api.github.com/gists{/gist_id}\",\n  \"hub_url\": \"https://api.github.com/hub\",\n  \"issue_search_url\": \"https://api.github.com/search/issues?q={query}{&page,per_page,sort,order}\",\n  \"issues_url\": \"https://api.github.com/issues\",\n  \"keys_url\": \"https://api.github.com/user/keys\",\n  \"label_search_url\": \"https://api.github.com/search/labels?q={query}&repository_id={repository_id}{&page,per_page}\",\n  \"notifications_url\": \"https://api.github.com/notifications\",\n  \"organization_url\": \"https://api.github.com/orgs/{org}\",\n  \"organization_repositories_url\": \"https://api.github.com/orgs/{org}/repos{?type,page,per_page,sort}\",\n  \"organization_teams_url\": \"https://api.github.com/orgs/{org}/teams\",\n  \"public_gists_url\": \"https://api.github.com/gists/public\",\n  \"rate_limit_url\": \"https://api.github.com/rate_limit\",\n  \"repository_url\": \"https://api.github.com/repos/{owner}/{repo}\",\n  \"repository_search_url\": \"https://api.github.com/search/repositories?q={query}{&page,per_page,sort,order}\",\n  \"current_user_repositories_url\": \"https://api.github.com/user/repos{?type,page,per_page,sort}\",\n  \"starred_url\": \"https://api.github.com/user/starred{/owner}{/repo}\",\n  \"starred_gists_url\": \"https://api.github.com/gists/starred\",\n  \"user_url\": \"https://api.github.com/users/{user}\",\n  \"user_organizations_url\": \"https://api.github.com/user/orgs\",\n  \"user_repositories_url\": \"https://api.github.com/users/{user}/repos{?type,page,per_page,sort}\",\n  \"user_search_url\": \"https://api.github.com/search/users?q={query}{&page,per_page,sort,order}\"\n}\n\n"
     ]
    }
   ],
   "source": [
    "response = requests.get('https://api.github.com')\n",
    "\n",
    "print (response.status_code)\n",
    "print (response.text)"
   ]
  },
  {
   "cell_type": "code",
   "execution_count": 43,
   "metadata": {},
   "outputs": [
    {
     "output_type": "stream",
     "name": "stdout",
     "text": [
      "https://api.github.com/user\n"
     ]
    }
   ],
   "source": [
    "data = response.json()\n",
    "\n",
    "print (data [\"current_user_url\"])"
   ]
  }
 ]
}