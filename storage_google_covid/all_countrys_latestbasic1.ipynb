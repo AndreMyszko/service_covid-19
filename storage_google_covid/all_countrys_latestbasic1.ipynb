{
 "metadata": {
  "language_info": {
   "codemirror_mode": {
    "name": "ipython",
    "version": 3
   },
   "file_extension": ".py",
   "mimetype": "text/x-python",
   "name": "python",
   "nbconvert_exporter": "python",
   "pygments_lexer": "ipython3",
   "version": "3.9.4"
  },
  "orig_nbformat": 2,
  "kernelspec": {
   "name": "python394jvsc74a57bd063fd5069d213b44bf678585dea6b12cceca9941eaf7f819626cde1f2670de90d",
   "display_name": "Python 3.9.4 64-bit"
  },
  "metadata": {
   "interpreter": {
    "hash": "63fd5069d213b44bf678585dea6b12cceca9941eaf7f819626cde1f2670de90d"
   }
  }
 },
 "nbformat": 4,
 "nbformat_minor": 2,
 "cells": [
  {
   "cell_type": "code",
   "execution_count": 6,
   "metadata": {},
   "outputs": [],
   "source": [
    "import pandas as pd\r\n",
    "import json"
   ]
  },
  {
   "cell_type": "code",
   "execution_count": 7,
   "metadata": {},
   "outputs": [
    {
     "output_type": "stream",
     "name": "stderr",
     "text": [
      "C:\\Users\\gusta\\AppData\\Roaming\\Python\\Python39\\site-packages\\IPython\\core\\interactiveshell.py:3165: DtypeWarning: Columns (9,102) have mixed types.Specify dtype option on import or set low_memory=False.\n  has_raised = await self.run_ast_nodes(code_ast.body, cell_name,\n"
     ]
    }
   ],
   "source": [
    "# Load CSV data directly from the URL with pandas, the options are needed to prevent\n",
    "# reading of records with key \"NA\" (Namibia) as NaN\n",
    "data = pd.read_csv(\n",
    "    \"https://storage.googleapis.com/covid19-open-data/v2/latest/main.csv\",\n",
    "    keep_default_na=False,\n",
    "    na_values=[\"\"],\n",
    ").set_index('key')"
   ]
  },
  {
   "cell_type": "code",
   "execution_count": 8,
   "metadata": {},
   "outputs": [],
   "source": [
    "# NOTE: We are only downloading the last day of data, but you can download all\n",
    "# the data at once if you'd like by changing the URL to:\n",
    "# https://storage.googleapis.com/covid19-open-data/v2/main.csv"
   ]
  },
  {
   "cell_type": "code",
   "execution_count": 9,
   "metadata": {},
   "outputs": [],
   "source": [
    "# Print a small snippet of the dataset\n",
    "#print(f\"The dataset currently contains {len(data)} records, here is a sample:\")\n",
    "#data.sample(5)"
   ]
  },
  {
   "cell_type": "code",
   "execution_count": 10,
   "metadata": {
    "tags": []
   },
   "outputs": [
    {
     "output_type": "execute_result",
     "data": {
      "text/plain": [
       "           date          country_name country_code  new_confirmed  \\\n",
       "key                                                                 \n",
       "AD   2021-05-08               Andorra           AD           24.0   \n",
       "AE   2021-05-08  United Arab Emirates           AE         1724.0   \n",
       "AF   2021-05-08           Afghanistan           AF          293.0   \n",
       "AG   2021-05-08   Antigua and Barbuda           AG            0.0   \n",
       "AI   2021-05-08              Anguilla           AI            0.0   \n",
       "..          ...                   ...          ...            ...   \n",
       "YE   2021-05-08                 Yemen           YE           12.0   \n",
       "YT   2021-05-08               Mayotte           YT           40.0   \n",
       "ZA   2021-05-08          South Africa           ZA         2073.0   \n",
       "ZM   2021-05-08                Zambia           ZM           45.0   \n",
       "ZW   2021-05-08              Zimbabwe           ZW           30.0   \n",
       "\n",
       "     total_confirmed  new_deceased  total_deceased  new_recovered  \\\n",
       "key                                                                 \n",
       "AD           13340.0           0.0           127.0            NaN   \n",
       "AE          530944.0           3.0          1604.0            NaN   \n",
       "AF           61455.0           9.0          2673.0            NaN   \n",
       "AG            1232.0           0.0            32.0            NaN   \n",
       "AI              95.0           0.0             0.0            NaN   \n",
       "..               ...           ...             ...            ...   \n",
       "YE            6430.0           5.0          1266.0            NaN   \n",
       "YT           20134.0           0.0           170.0            NaN   \n",
       "ZA         1588221.0          46.0         54557.0            NaN   \n",
       "ZM           91849.0           1.0          1255.0            NaN   \n",
       "ZW           38357.0           0.0          1574.0            NaN   \n",
       "\n",
       "     total_recovered  new_tested  total_tested  \n",
       "key                                             \n",
       "AD               NaN         NaN      183476.0  \n",
       "AE               NaN    196777.0    45201315.0  \n",
       "AF               NaN         NaN           NaN  \n",
       "AG               NaN         NaN           NaN  \n",
       "AI               NaN         NaN           NaN  \n",
       "..               ...         ...           ...  \n",
       "YE               NaN         NaN           NaN  \n",
       "YT               NaN         NaN           NaN  \n",
       "ZA               NaN     32577.0    10805804.0  \n",
       "ZM               NaN      4765.0     1426687.0  \n",
       "ZW               NaN      2822.0      502216.0  \n",
       "\n",
       "[246 rows x 11 columns]"
      ],
      "text/html": "<div>\n<style scoped>\n    .dataframe tbody tr th:only-of-type {\n        vertical-align: middle;\n    }\n\n    .dataframe tbody tr th {\n        vertical-align: top;\n    }\n\n    .dataframe thead th {\n        text-align: right;\n    }\n</style>\n<table border=\"1\" class=\"dataframe\">\n  <thead>\n    <tr style=\"text-align: right;\">\n      <th></th>\n      <th>date</th>\n      <th>country_name</th>\n      <th>country_code</th>\n      <th>new_confirmed</th>\n      <th>total_confirmed</th>\n      <th>new_deceased</th>\n      <th>total_deceased</th>\n      <th>new_recovered</th>\n      <th>total_recovered</th>\n      <th>new_tested</th>\n      <th>total_tested</th>\n    </tr>\n    <tr>\n      <th>key</th>\n      <th></th>\n      <th></th>\n      <th></th>\n      <th></th>\n      <th></th>\n      <th></th>\n      <th></th>\n      <th></th>\n      <th></th>\n      <th></th>\n      <th></th>\n    </tr>\n  </thead>\n  <tbody>\n    <tr>\n      <th>AD</th>\n      <td>2021-05-08</td>\n      <td>Andorra</td>\n      <td>AD</td>\n      <td>24.0</td>\n      <td>13340.0</td>\n      <td>0.0</td>\n      <td>127.0</td>\n      <td>NaN</td>\n      <td>NaN</td>\n      <td>NaN</td>\n      <td>183476.0</td>\n    </tr>\n    <tr>\n      <th>AE</th>\n      <td>2021-05-08</td>\n      <td>United Arab Emirates</td>\n      <td>AE</td>\n      <td>1724.0</td>\n      <td>530944.0</td>\n      <td>3.0</td>\n      <td>1604.0</td>\n      <td>NaN</td>\n      <td>NaN</td>\n      <td>196777.0</td>\n      <td>45201315.0</td>\n    </tr>\n    <tr>\n      <th>AF</th>\n      <td>2021-05-08</td>\n      <td>Afghanistan</td>\n      <td>AF</td>\n      <td>293.0</td>\n      <td>61455.0</td>\n      <td>9.0</td>\n      <td>2673.0</td>\n      <td>NaN</td>\n      <td>NaN</td>\n      <td>NaN</td>\n      <td>NaN</td>\n    </tr>\n    <tr>\n      <th>AG</th>\n      <td>2021-05-08</td>\n      <td>Antigua and Barbuda</td>\n      <td>AG</td>\n      <td>0.0</td>\n      <td>1232.0</td>\n      <td>0.0</td>\n      <td>32.0</td>\n      <td>NaN</td>\n      <td>NaN</td>\n      <td>NaN</td>\n      <td>NaN</td>\n    </tr>\n    <tr>\n      <th>AI</th>\n      <td>2021-05-08</td>\n      <td>Anguilla</td>\n      <td>AI</td>\n      <td>0.0</td>\n      <td>95.0</td>\n      <td>0.0</td>\n      <td>0.0</td>\n      <td>NaN</td>\n      <td>NaN</td>\n      <td>NaN</td>\n      <td>NaN</td>\n    </tr>\n    <tr>\n      <th>...</th>\n      <td>...</td>\n      <td>...</td>\n      <td>...</td>\n      <td>...</td>\n      <td>...</td>\n      <td>...</td>\n      <td>...</td>\n      <td>...</td>\n      <td>...</td>\n      <td>...</td>\n      <td>...</td>\n    </tr>\n    <tr>\n      <th>YE</th>\n      <td>2021-05-08</td>\n      <td>Yemen</td>\n      <td>YE</td>\n      <td>12.0</td>\n      <td>6430.0</td>\n      <td>5.0</td>\n      <td>1266.0</td>\n      <td>NaN</td>\n      <td>NaN</td>\n      <td>NaN</td>\n      <td>NaN</td>\n    </tr>\n    <tr>\n      <th>YT</th>\n      <td>2021-05-08</td>\n      <td>Mayotte</td>\n      <td>YT</td>\n      <td>40.0</td>\n      <td>20134.0</td>\n      <td>0.0</td>\n      <td>170.0</td>\n      <td>NaN</td>\n      <td>NaN</td>\n      <td>NaN</td>\n      <td>NaN</td>\n    </tr>\n    <tr>\n      <th>ZA</th>\n      <td>2021-05-08</td>\n      <td>South Africa</td>\n      <td>ZA</td>\n      <td>2073.0</td>\n      <td>1588221.0</td>\n      <td>46.0</td>\n      <td>54557.0</td>\n      <td>NaN</td>\n      <td>NaN</td>\n      <td>32577.0</td>\n      <td>10805804.0</td>\n    </tr>\n    <tr>\n      <th>ZM</th>\n      <td>2021-05-08</td>\n      <td>Zambia</td>\n      <td>ZM</td>\n      <td>45.0</td>\n      <td>91849.0</td>\n      <td>1.0</td>\n      <td>1255.0</td>\n      <td>NaN</td>\n      <td>NaN</td>\n      <td>4765.0</td>\n      <td>1426687.0</td>\n    </tr>\n    <tr>\n      <th>ZW</th>\n      <td>2021-05-08</td>\n      <td>Zimbabwe</td>\n      <td>ZW</td>\n      <td>30.0</td>\n      <td>38357.0</td>\n      <td>0.0</td>\n      <td>1574.0</td>\n      <td>NaN</td>\n      <td>NaN</td>\n      <td>2822.0</td>\n      <td>502216.0</td>\n    </tr>\n  </tbody>\n</table>\n<p>246 rows × 11 columns</p>\n</div>"
     },
     "metadata": {},
     "execution_count": 10
    }
   ],
   "source": [
    "countries = data[data.aggregation_level == 0]\n",
    "countries = countries.drop(columns=['subregion1_code', 'subregion1_name', 'subregion2_code', 'subregion2_name',])\n",
    "countries = countries[['date','country_name','country_code','new_confirmed','total_confirmed','new_deceased','total_deceased','new_recovered','total_recovered','new_tested','total_tested']]\n",
    "\n",
    "#countries = countries.locality_name\n",
    "#countries\n",
    "\n",
    "df = pd.DataFrame(countries) #.to_json() #.columns\n",
    "df.to_json('novapasta/first_json.json')\n",
    "df.to_csv('novapasta/first_csv.csv')\n",
    "df\n",
    "\n",
    "#print(df.to_csv())\n",
    "\n",
    "#pd.json_normalize(df)\n",
    "\n",
    "\n",
    "#countries.tail(5)"
   ]
  },
  {
   "cell_type": "code",
   "execution_count": null,
   "metadata": {},
   "outputs": [],
   "source": []
  }
 ]
}