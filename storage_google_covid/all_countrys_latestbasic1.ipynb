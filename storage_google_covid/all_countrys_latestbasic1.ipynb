{
 "metadata": {
  "language_info": {
   "codemirror_mode": {
    "name": "ipython",
    "version": 3
   },
   "file_extension": ".py",
   "mimetype": "text/x-python",
   "name": "python",
   "nbconvert_exporter": "python",
   "pygments_lexer": "ipython3",
   "version": "3.9.4"
  },
  "orig_nbformat": 2,
  "kernelspec": {
   "name": "python394jvsc74a57bd063fd5069d213b44bf678585dea6b12cceca9941eaf7f819626cde1f2670de90d",
   "display_name": "Python 3.9.4 64-bit"
  },
  "metadata": {
   "interpreter": {
    "hash": "63fd5069d213b44bf678585dea6b12cceca9941eaf7f819626cde1f2670de90d"
   }
  }
 },
 "nbformat": 4,
 "nbformat_minor": 2,
 "cells": [
  {
   "cell_type": "code",
   "execution_count": 179,
   "metadata": {},
   "outputs": [],
   "source": [
    "import pandas as pd\r\n",
    "import json"
   ]
  },
  {
   "cell_type": "code",
   "execution_count": 180,
   "metadata": {},
   "outputs": [
    {
     "output_type": "stream",
     "name": "stderr",
     "text": [
      "C:\\Users\\gusta\\AppData\\Roaming\\Python\\Python39\\site-packages\\IPython\\core\\interactiveshell.py:3165: DtypeWarning: Columns (9) have mixed types.Specify dtype option on import or set low_memory=False.\n  has_raised = await self.run_ast_nodes(code_ast.body, cell_name,\n"
     ]
    }
   ],
   "source": [
    "# Load CSV data directly from the URL with pandas, the options are needed to prevent\n",
    "# reading of records with key \"NA\" (Namibia) as NaN\n",
    "data = pd.read_csv(\n",
    "    \"https://storage.googleapis.com/covid19-open-data/v2/latest/main.csv\",\n",
    "    keep_default_na=False,\n",
    "    na_values=[\"\"],\n",
    ")"
   ]
  },
  {
   "cell_type": "code",
   "execution_count": 181,
   "metadata": {},
   "outputs": [],
   "source": [
    "# NOTE: We are only downloading the last day of data, but you can download all\n",
    "# the data at once if you'd like by changing the URL to:\n",
    "# https://storage.googleapis.com/covid19-open-data/v2/main.csv"
   ]
  },
  {
   "cell_type": "code",
   "execution_count": 182,
   "metadata": {},
   "outputs": [],
   "source": [
    "# Print a small snippet of the dataset\n",
    "#print(f\"The dataset currently contains {len(data)} records, here is a sample:\")\n",
    "#data.sample(5)"
   ]
  },
  {
   "cell_type": "code",
   "execution_count": 186,
   "metadata": {
    "tags": []
   },
   "outputs": [
    {
     "output_type": "execute_result",
     "data": {
      "text/plain": [
       "      key        date          country_name country_code  new_confirmed  \\\n",
       "0      AD  2021-04-30               Andorra           AD           38.0   \n",
       "1      AE  2021-04-30  United Arab Emirates           AE         1710.0   \n",
       "2      AF  2021-04-30           Afghanistan           AF          206.0   \n",
       "37     AG  2021-04-30   Antigua and Barbuda           AG            0.0   \n",
       "38     AI  2021-04-30              Anguilla           AI            3.0   \n",
       "...    ..         ...                   ...          ...            ...   \n",
       "22512  YE  2021-04-30                 Yemen           YE           43.0   \n",
       "22513  YT  2021-04-30               Mayotte           YT          159.0   \n",
       "22514  ZA  2021-04-30          South Africa           ZA          880.0   \n",
       "22576  ZM  2021-04-30                Zambia           ZM           40.0   \n",
       "22577  ZW  2021-04-30              Zimbabwe           ZW           62.0   \n",
       "\n",
       "       total_confirmed  new_deceased  total_deceased  new_recovered  \\\n",
       "0              13121.0           0.0           124.0            NaN   \n",
       "1             516301.0           2.0          1580.0            NaN   \n",
       "2              59576.0           7.0          2618.0            NaN   \n",
       "37              1232.0           0.0            32.0            NaN   \n",
       "38                87.0           0.0             0.0            NaN   \n",
       "...                ...           ...             ...            ...   \n",
       "22512           6267.0           9.0          1217.0            NaN   \n",
       "22513          20055.0           1.0           170.0            NaN   \n",
       "22514        1577200.0          51.0         54237.0            NaN   \n",
       "22576          91418.0           1.0          1249.0            NaN   \n",
       "22577          38164.0           5.0          1565.0            NaN   \n",
       "\n",
       "       total_recovered  new_tested  total_tested  \n",
       "0                  NaN         NaN      177079.0  \n",
       "1                  NaN    256181.0    40925902.0  \n",
       "2                  NaN         NaN           NaN  \n",
       "37                 NaN         NaN           NaN  \n",
       "38                 NaN         NaN           NaN  \n",
       "...                ...         ...           ...  \n",
       "22512              NaN         NaN           NaN  \n",
       "22513              NaN         NaN           NaN  \n",
       "22514              NaN     14838.0    10545817.0  \n",
       "22576              NaN      3338.0     1378946.0  \n",
       "22577              NaN      1583.0      481672.0  \n",
       "\n",
       "[246 rows x 12 columns]"
      ],
      "text/html": "<div>\n<style scoped>\n    .dataframe tbody tr th:only-of-type {\n        vertical-align: middle;\n    }\n\n    .dataframe tbody tr th {\n        vertical-align: top;\n    }\n\n    .dataframe thead th {\n        text-align: right;\n    }\n</style>\n<table border=\"1\" class=\"dataframe\">\n  <thead>\n    <tr style=\"text-align: right;\">\n      <th></th>\n      <th>key</th>\n      <th>date</th>\n      <th>country_name</th>\n      <th>country_code</th>\n      <th>new_confirmed</th>\n      <th>total_confirmed</th>\n      <th>new_deceased</th>\n      <th>total_deceased</th>\n      <th>new_recovered</th>\n      <th>total_recovered</th>\n      <th>new_tested</th>\n      <th>total_tested</th>\n    </tr>\n  </thead>\n  <tbody>\n    <tr>\n      <th>0</th>\n      <td>AD</td>\n      <td>2021-04-30</td>\n      <td>Andorra</td>\n      <td>AD</td>\n      <td>38.0</td>\n      <td>13121.0</td>\n      <td>0.0</td>\n      <td>124.0</td>\n      <td>NaN</td>\n      <td>NaN</td>\n      <td>NaN</td>\n      <td>177079.0</td>\n    </tr>\n    <tr>\n      <th>1</th>\n      <td>AE</td>\n      <td>2021-04-30</td>\n      <td>United Arab Emirates</td>\n      <td>AE</td>\n      <td>1710.0</td>\n      <td>516301.0</td>\n      <td>2.0</td>\n      <td>1580.0</td>\n      <td>NaN</td>\n      <td>NaN</td>\n      <td>256181.0</td>\n      <td>40925902.0</td>\n    </tr>\n    <tr>\n      <th>2</th>\n      <td>AF</td>\n      <td>2021-04-30</td>\n      <td>Afghanistan</td>\n      <td>AF</td>\n      <td>206.0</td>\n      <td>59576.0</td>\n      <td>7.0</td>\n      <td>2618.0</td>\n      <td>NaN</td>\n      <td>NaN</td>\n      <td>NaN</td>\n      <td>NaN</td>\n    </tr>\n    <tr>\n      <th>37</th>\n      <td>AG</td>\n      <td>2021-04-30</td>\n      <td>Antigua and Barbuda</td>\n      <td>AG</td>\n      <td>0.0</td>\n      <td>1232.0</td>\n      <td>0.0</td>\n      <td>32.0</td>\n      <td>NaN</td>\n      <td>NaN</td>\n      <td>NaN</td>\n      <td>NaN</td>\n    </tr>\n    <tr>\n      <th>38</th>\n      <td>AI</td>\n      <td>2021-04-30</td>\n      <td>Anguilla</td>\n      <td>AI</td>\n      <td>3.0</td>\n      <td>87.0</td>\n      <td>0.0</td>\n      <td>0.0</td>\n      <td>NaN</td>\n      <td>NaN</td>\n      <td>NaN</td>\n      <td>NaN</td>\n    </tr>\n    <tr>\n      <th>...</th>\n      <td>...</td>\n      <td>...</td>\n      <td>...</td>\n      <td>...</td>\n      <td>...</td>\n      <td>...</td>\n      <td>...</td>\n      <td>...</td>\n      <td>...</td>\n      <td>...</td>\n      <td>...</td>\n      <td>...</td>\n    </tr>\n    <tr>\n      <th>22512</th>\n      <td>YE</td>\n      <td>2021-04-30</td>\n      <td>Yemen</td>\n      <td>YE</td>\n      <td>43.0</td>\n      <td>6267.0</td>\n      <td>9.0</td>\n      <td>1217.0</td>\n      <td>NaN</td>\n      <td>NaN</td>\n      <td>NaN</td>\n      <td>NaN</td>\n    </tr>\n    <tr>\n      <th>22513</th>\n      <td>YT</td>\n      <td>2021-04-30</td>\n      <td>Mayotte</td>\n      <td>YT</td>\n      <td>159.0</td>\n      <td>20055.0</td>\n      <td>1.0</td>\n      <td>170.0</td>\n      <td>NaN</td>\n      <td>NaN</td>\n      <td>NaN</td>\n      <td>NaN</td>\n    </tr>\n    <tr>\n      <th>22514</th>\n      <td>ZA</td>\n      <td>2021-04-30</td>\n      <td>South Africa</td>\n      <td>ZA</td>\n      <td>880.0</td>\n      <td>1577200.0</td>\n      <td>51.0</td>\n      <td>54237.0</td>\n      <td>NaN</td>\n      <td>NaN</td>\n      <td>14838.0</td>\n      <td>10545817.0</td>\n    </tr>\n    <tr>\n      <th>22576</th>\n      <td>ZM</td>\n      <td>2021-04-30</td>\n      <td>Zambia</td>\n      <td>ZM</td>\n      <td>40.0</td>\n      <td>91418.0</td>\n      <td>1.0</td>\n      <td>1249.0</td>\n      <td>NaN</td>\n      <td>NaN</td>\n      <td>3338.0</td>\n      <td>1378946.0</td>\n    </tr>\n    <tr>\n      <th>22577</th>\n      <td>ZW</td>\n      <td>2021-04-30</td>\n      <td>Zimbabwe</td>\n      <td>ZW</td>\n      <td>62.0</td>\n      <td>38164.0</td>\n      <td>5.0</td>\n      <td>1565.0</td>\n      <td>NaN</td>\n      <td>NaN</td>\n      <td>1583.0</td>\n      <td>481672.0</td>\n    </tr>\n  </tbody>\n</table>\n<p>246 rows × 12 columns</p>\n</div>"
     },
     "metadata": {},
     "execution_count": 186
    }
   ],
   "source": [
    "countries = data[data.aggregation_level == 0]\n",
    "countries = countries.drop(columns=['subregion1_code', 'subregion1_name', 'subregion2_code', 'subregion2_name',])\n",
    "countries = countries[['key','date','country_name','country_code','new_confirmed','total_confirmed','new_deceased','total_deceased','new_recovered','total_recovered','new_tested','total_tested']]\n",
    "\n",
    "#countries = countries.locality_name\n",
    "#countries\n",
    "\n",
    "df = pd.DataFrame(countries) #.to_json() #.columns\n",
    "#df.to_json('novapasta/first_json.json')\n",
    "#df.to_csv('novapasta/first_csv.csv')\n",
    "df\n",
    "\n",
    "#print(df.to_csv())\n",
    "\n",
    "#pd.json_normalize(df)\n",
    "\n",
    "\n",
    "#countries.tail(5)"
   ]
  },
  {
   "cell_type": "code",
   "execution_count": null,
   "metadata": {},
   "outputs": [],
   "source": []
  }
 ]
}