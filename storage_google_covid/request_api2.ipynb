{
 "metadata": {
  "language_info": {
   "codemirror_mode": {
    "name": "ipython",
    "version": 3
   },
   "file_extension": ".py",
   "mimetype": "text/x-python",
   "name": "python",
   "nbconvert_exporter": "python",
   "pygments_lexer": "ipython3",
   "version": "3.9.4"
  },
  "orig_nbformat": 2,
  "kernelspec": {
   "name": "python394jvsc74a57bd063fd5069d213b44bf678585dea6b12cceca9941eaf7f819626cde1f2670de90d",
   "display_name": "Python 3.9.4 64-bit"
  },
  "metadata": {
   "interpreter": {
    "hash": "63fd5069d213b44bf678585dea6b12cceca9941eaf7f819626cde1f2670de90d"
   }
  }
 },
 "nbformat": 4,
 "nbformat_minor": 2,
 "cells": [
  {
   "cell_type": "code",
   "execution_count": 16,
   "metadata": {},
   "outputs": [],
   "source": [
    "import requests\n",
    "\n",
    "response = requests.get(\"http://www.idealesquadrias.com.br/\")"
   ]
  },
  {
   "cell_type": "code",
   "execution_count": 17,
   "metadata": {
    "tags": []
   },
   "outputs": [
    {
     "output_type": "stream",
     "name": "stdout",
     "text": [
      "status_code:\n 200\nHeaders:\n {'Date': 'Tue, 04 May 2021 19:38:52 GMT', 'Content-Type': 'text/html; charset=iso-8859-1', 'Transfer-Encoding': 'chunked', 'Connection': 'keep-alive', 'Server': 'Apache', 'X-App-Status': '1', 'X-Cache-Status': 'BYPASS', 'Content-Encoding': 'gzip'}\nContent:\n b'<!DOCTYPE html PUBLIC \"-//W3C//DTD XHTML 1.0 Transitional//EN\" \"http://www.w3.org/TR/xhtml1/DTD/xhtml1-transitional.dtd\">\\n<html xmlns=\"http://www.w3.org/1999/xhtml\">\\n<head>\\n<meta http-equiv=\"Content-Type\" content=\"text/html; iso-8859-1\" />\\n<title>Ideal Esquadrias</title>\\n<link rel=\"stylesheet\" type=\"text/css\" href=\"css/estilo.css\">\\n<link rel=\"stylesheet\" href=\"css/nivo-slider.css\" type=\"text/css\" media=\"screen\" />\\n<link rel=\"stylesheet\" href=\"js/themes/default/default.css\" type=\"text/css\" media=\"screen\" />\\n\\n<script type=\"text/javascript\" src=\"js/jquery-1.4.4.min.js\"></script>\\n<!-- Slide -->\\n<script type=\"text/javascript\" src=\"js/jquery.nivo.slider.js\"></script>\\n\\n<script type=\"text/javascript\">\\nvar $J = jQuery.noConflict();\\n\\n$J(window).load(function() {\\n\\t$J(\\'#slider\\').nivoSlider();\\n});\\n</script>\\n<!-- Fim Slide -->\\n\\n</head>\\n<body>\\n<div id=\"corpo\">\\n<div id=\"logo\">\\n<a href=\"./\"><img src=\"img/logo.png\"></a>\\n</div>\\n<div id=\"frase\">\\n<span class=\"frase\">\"<font face=\"verdana\">Pequenas oportunidades s\\xe3o muitas vezes o come\\xe7o de grandes empreendimentos.</font>\"</span><br /><br />\\n<span class=\"autor\">Dem\\xf3stenes</span>\\n</div>\\n\\n<link href=\"css/superfish-navbar.css\" rel=\"stylesheet\" type=\"text/css\" />\\n<script type=\"text/javascript\" src=\"js/jquery-1.4.4.min.js\"></script>\\n<script type=\"text/javascript\" src=\"js/superfish.js\"></script>\\n<!-- Cufon -->\\n<script src=\"cufon/cufon-yui.js\" type=\"text/javascript\"></script>\\n<script src=\"cufon/MicrogrammaDMedExt_400.font.js\" type=\"text/javascript\"></script>\\n<script type=\"text/javascript\">\\nCufon.replace(\\'h1\\');\\nCufon.replace(\\'h2\\');\\nCufon.replace(\\'.cuf\\');\\n</script>\\n<!-- Fim Cufon -->\\n<!--[if IE]>\\n<style language=\"text/css\">\\n.sf-menu li li {\\n\\tmargin-top:\\t\\t6px;\\n\\tfont-size:      14px;\\n\\tbackground: \\t#faa30c;\\n\\tpadding-top:\\t15px;\\n\\tpadding-right:\\t15px;\\n\\tpadding-bottom:\\t15px;\\n\\tpadding-left:\\t20px;\\n}\\n.sf-menu li li:hover{\\n\\tmargin-top:\\t\\t6px;\\n\\tfont-size:      14px;\\n\\tbackground: \\t#fab00c;\\n\\tpadding-top:\\t15px;\\n\\tpadding-right:\\t15px;\\n\\tpadding-bottom:\\t15px;\\n\\tpadding-left:\\t20px;\\n}\\n</style>\\n<![endif]-->\\n<div id=\"menu\">\\n\\n        <ul class=\"sf-menu\">\\n            <li class=\"cuf\"><a href=\"index.php\">home</a></li>\\n            <li class=\"cuf\"><a href=\"empresa.php\">nossa empresa</a></li>\\n            <li class=\"cuf\"><a href=\"galeria.php\">galeria</a></li>\\n            <li><a href=\"produtos.php\" class=\"cuf\">produtos</a>\\n\\t\\t\\t<ul>\\n\\t\\t\\t\\t\\t                    <li ><a href=\"produto.php?cd=6\" style=\"font-family=Arial; font-size:12px !important;\">Box</a></li>\\n\\t\\t\\t\\t\\t                    <li  style=\"margin-top:0 !important;\" ><a href=\"produto.php?cd=7\" style=\"font-family=Arial; font-size:12px !important;\">Cobertura</a></li>\\n\\t\\t\\t\\t\\t                    <li  style=\"margin-top:0 !important;\" ><a href=\"produto.php?cd=2\" style=\"font-family=Arial; font-size:12px !important;\">Linha Gold</a></li>\\n\\t\\t\\t\\t\\t                    <li  style=\"margin-top:0 !important;\" ><a href=\"produto.php?cd=1\" style=\"font-family=Arial; font-size:12px !important;\">Linha Suprema</a></li>\\n\\t\\t\\t\\t\\t                    <li  style=\"margin-top:0 !important;\" ><a href=\"produto.php?cd=5\" style=\"font-family=Arial; font-size:12px !important;\">Port\\xe3o</a></li>\\n\\t\\t\\t\\t\\t                    <li  style=\"margin-top:0 !important;\" ><a href=\"produto.php?cd=4\" style=\"font-family=Arial; font-size:12px !important;\">Sacada</a></li>\\n\\t\\t\\t\\t\\t                    <li  style=\"margin-top:0 !important;\" ><a href=\"produto.php?cd=3\" style=\"font-family=Arial; font-size:12px !important;\">Vidro Temperado</a></li>\\n\\t\\t\\t\\t\\t                </ul>\\n\\t\\t\\t</li>\\n<li class=\"cuf\"><a href=\"dicas.php\">dicas</a></li>\\n            <li class=\"cuf\"><a href=\"contato.php\">contato</a></li>\\n        </ul>\\n\\n</div><div id=\"borda_branca\">\\n<div class=\"slider-wrapper theme-default\" style=\"width:700px; margin-bottom:10px;\">\\n<div id=\"slider\" class=\"nivoSlider\">\\n            <img src=\"upload/upbanners/b4d6f3fe21418bb0432c134b97e60c1a.jpg\" width=\"940\" height=\"300\" border=\"0\"/>\\t\\t\\t<img src=\"upload/upbanners/564d188eb5153735c898f25e54290730.jpg\" width=\"940\" height=\"300\" border=\"0\"/>\\t\\t\\t<img src=\"upload/upbanners/948af6c3859b98a486efa8b4c91b1993.jpg\" width=\"940\" height=\"300\" border=\"0\"/>\\t\\t\\t    \\t</div>\\n\\t</div>\\n</div><table cellpadding=\"0\" cellspacing=\"0\" border=\"0\">\\n<tr>\\n\\n<!-- Centro - Esquerda -->\\n<td>\\n<div id=\"lateral\">\\n<h2>ENDERE\\xc7O</h2>\\n<div id=\"limite_tamanho\">\\n<p class=\"texto_corrido\">Av. Amazonas, 275 - Loja 06 Centro - Caraguatatuba  SP</p>\\n\\n<span class=\"subtitulo\">Telefones</span>\\n<span class=\"telefones\"><div>(12) 3882.6665</div><div><br></div></span>\\n<br/>\\n<span class=\"texto_laranja\">E-mail</span>\\n<span class=\"texto_corrido\">ideal@idealesquadrias.com.br</span>\\n<br/><br/>\\n<span class=\"texto_laranja\"><a href=\"http://goo.gl/maps/IbQfj\" style=\"color:#fdb813;\" target=\"_blank\">Como chegar</a></span>\\n</div>\\n</div></td>\\n<!-- Fim Centro - Esquerda -->\\n\\n<!-- Centro - Centro -->\\n<td>\\n<div id=\"centro\">\\n<table cellpadding=\"0\" cellspacing=\"0\" border=\"0\">\\n\\n<!-- Tr 1-->\\n<tr>\\n<td>\\n<a href=\"aempresa.php\">\\n<img src=\"img/a_empresa.png\" />\\n</a>\\n</td>\\n<td>\\n<div id=\"centro_tamanho\">\\n<a href=\"aempresa.php\">\\n<h2>A EMPRESA</h2>\\n</a>\\n<span class=\"texto_corrido\">A Ideal representa tecnologia do mais alto n&iacute;vel em sistemas de esquadrias...</span>\\n</div>\\n</td>\\n</tr>\\n<!-- Fim Tr 1-->\\n<tr><td>&nbsp;</td></tr>\\n<!-- Tr 2-->\\n<tr>\\n<td>\\n<a href=\"galeria.php\">\\n<img src=\"img/galeria.png\" />\\n</a>\\n</td>\\n<td>\\n<div id=\"centro_tamanho\">\\n<a href=\"galeria.php\">\\n<h2>GALERIA IDEAL</h2>\\n</a>\\n<span class=\"texto_corrido\">Veja fotos de projetos executados e mat&eacute;rias em revistas especializadas.</span>\\n</div>\\n</td>\\n</tr>\\n<!-- Fim Tr 2-->\\n<tr><td>&nbsp;</td></tr>\\n<!-- Tr 3-->\\n<tr>\\n<td>\\n<a href=\"produtos.php\">\\n<img src=\"img/produtos.png\" />\\n</a>\\n</td>\\n<td>\\n<div id=\"centro_tamanho\">\\n<a href=\"produtos.php\">\\n<h2>PRODUTOS</h2>\\n</a>\\n<span class=\"texto_corrido\">As mais novas tend&ecirc;ncias do mercado, com projetos em diversos tipos de acabamento.</span>\\n</div>\\n</td>\\n</tr>\\n<!-- Fim Tr 3-->\\n\\n</table>\\n</div>\\n</td>\\n<!-- Fim Centro - Centro -->\\n\\n<!-- Centro - Direita -->\\n<td>\\n\\n<table cellpadding=\"0\" cellspacing=\"0\" border=\"0\" style=\"margin:55px 0 0 -180px;\">\\n\\n<!-- Tr 1-->\\n<tr>\\n<td>\\n<div id=\"centro_tamanho\">\\n<div id=\"titulo_dicas\">\\n<a href=\"dicas.php\">\\n<h2>DICAS</h2>\\n</a>\\n</div>\\n<div id=\\'dicas\\'><a href=\"dica.php?cd=30\"><span class=\"texto_laranja\">10/12/2012</span>&nbsp;&nbsp;<span class=\"texto_corrido\">COBERTURAS DE POLICABORNATOS</span></a><br/>\\n<a href=\"dica.php?cd=28\"><span class=\"texto_laranja\">10/12/2012</span>&nbsp;&nbsp;<span class=\"texto_corrido\">ALUM\\xcdNIO - PINTURA A P\\xd3 POLIESTER</span></a><br/>\\n<a href=\"dica.php?cd=29\"><span class=\"texto_laranja\">10/12/2012</span>&nbsp;&nbsp;<span class=\"texto_corrido\">VIDROS TEMPERADOS</span></a><br/>\\n<a href=\"dica.php?cd=26\"><span class=\"texto_laranja\">06/08/2012</span>&nbsp;&nbsp;<span class=\"texto_corrido\">ALUM\\xcdNIO - ANODIZA\\xc7\\xc3O</span></a><br/>\\n</div></div>\\n</td>\\n</tr>\\n<tr>\\n<td>\\n<div style=\"margin-top:65px;margin-left:15px;\">\\n<a href=\"contato.php\" ><img src=\"img/orcamento.png\" style=\"border:none;\" /></a>\\n</div>\\n</td>\\n</tr>\\n<tr><td>&nbsp;</td></tr>\\n<tr>\\n<td><!-- Pretty Photo -->\\n<script src=\"js/prettyPhoto_compressed_3.1.4/js/jquery.js\" type=\"text/javascript\" charset=\"utf-8\"></script>\\n<link rel=\"stylesheet\" href=\"js/prettyPhoto_compressed_3.1.4/css/prettyPhoto.css\" type=\"text/css\" media=\"screen\" charset=\"utf-8\" />\\n<script src=\"js/prettyPhoto_compressed_3.1.4/js/jquery.prettyPhoto.js\" type=\"text/javascript\" charset=\"utf-8\"></script>\\n<script type=\"text/javascript\" charset=\"utf-8\">\\n  $(document).ready(function(){\\n    $(\"a[rel^=\\'prettyPhoto\\']\").prettyPhoto();\\n  });\\n</script>\\n<!-- Fim Pretty Photo -->\\n<div style=\"margin-left:15px;\">\\n<a href=\"recomendar.php?iframe=true&width=400&height=400\" rel=\"prettyPhoto[iframes]\"><img src=\"img/indique.png\" style=\"border:none;\" /></a>\\n</div>\\n</td>\\n</tr>\\n<!-- Fim Tr 2-->\\n</table>\\n\\n</td>\\n<!-- Fim Centro - Direita -->\\n</tr>\\n</table>\\n<div id=\"rodape\">\\n<div id=\"texto_rodape\">\\n<span class=\"texto_corrido\">\\xa9 2012 Ideal Esquadrias. Todos os direitos reservados.</span>\\n</div>\\n<div id=\"imagem_rodape\"><a href=\"http://www.ondacriativa.com.br\" target=\"_blank\"><img src=\"img/assina-ondacriativa.png\" title=\"Cria\\xe7\\xe3o e Desenvolvimento\" width=\"110\" height=\"18\" border=\"0\" /></a></div>\\n</div></div>\\n</body>\\n</html>\\n'\n"
     ]
    }
   ],
   "source": [
    "print ('status_code:\\n',response.status_code)\n",
    "print ('Headers:\\n', response.headers)\n",
    "print ('Content:\\n',response.content)"
   ]
  },
  {
   "cell_type": "code",
   "execution_count": null,
   "metadata": {},
   "outputs": [],
   "source": []
  }
 ]
}